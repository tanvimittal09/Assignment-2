{
 "cells": [
  {
   "cell_type": "code",
   "execution_count": 1,
   "metadata": {},
   "outputs": [
    {
     "name": "stdout",
     "output_type": "stream",
     "text": [
      "Enter the number: 15\n",
      "Natural numbers from 1 to 15\n",
      "1\n",
      "2\n",
      "3\n",
      "4\n",
      "5\n",
      "6\n",
      "7\n",
      "8\n",
      "9\n",
      "10\n",
      "11\n",
      "12\n",
      "13\n",
      "14\n",
      "15\n",
      "Enter the number: 15\n",
      "Natural numbers in reverse order are\n",
      "15  14  13  12  11  10  9  8  7  6  5  4  3  2  1  "
     ]
    }
   ],
   "source": [
    "#Question 1\n",
    "n = int(input(\"Enter the number: \"))\n",
    "print(\"Natural numbers from 1 to\",n )\n",
    "for i in range(1,n+1):\n",
    "     print(i)\n",
    "n = int(input(\"Enter the number: \"))\n",
    "print(\"Natural numbers in reverse order are\")\n",
    "while ( i >= 1):\n",
    "    print (i, end = '  ')\n",
    "    i = i - 1"
   ]
  },
  {
   "cell_type": "code",
   "execution_count": 30,
   "metadata": {},
   "outputs": [
    {
     "name": "stdout",
     "output_type": "stream",
     "text": [
      "[2, 4, 6, 8, 10, 12, 14, 16, 18, 20, 22, 24, 26, 28, 30, 32, 34, 36, 38, 40, 42, 44, 46, 48, 50, 52, 54, 56, 58, 60, 62, 64, 66, 68, 70, 72, 74, 76, 78, 80, 82, 84, 86, 88, 90, 92, 94, 96, 98, 100]\n",
      "[1, 3, 5, 7, 9, 11, 13, 15, 17, 19, 21, 23, 25, 27, 29, 31, 33, 35, 37, 39, 41, 43, 45, 47, 49, 51, 53, 55, 57, 59, 61, 63, 65, 67, 69, 71, 73, 75, 77, 79, 81, 83, 85, 87, 89, 91, 93, 95, 97, 99]\n"
     ]
    }
   ],
   "source": [
    "#Question 2\n",
    "print([ num for num in range(1,101) if num%2 == 0 ])\n",
    "print([ num for num in range(1,101) if num%2 != 0 ])\n",
    "    "
   ]
  },
  {
   "cell_type": "code",
   "execution_count": 26,
   "metadata": {},
   "outputs": [
    {
     "name": "stdout",
     "output_type": "stream",
     "text": [
      "Enter a number: 5\n",
      "5 is a prime number\n"
     ]
    }
   ],
   "source": [
    "#Question 3\n",
    "num = int(input(\"Enter a number: \"))  \n",
    "if num > 1:  \n",
    "    for i in range(2,num):  \n",
    "        if (num % i) == 0:  \n",
    "            print(num,\"is not a prime number\")  \n",
    "            print(i,\"times\",num//i,\"is\",num)  \n",
    "            break\n",
    "    else:  \n",
    "        print(num,\"is a prime number\")  \n",
    "else: \n",
    "    print(num,\"is not a prime number\")"
   ]
  },
  {
   "cell_type": "code",
   "execution_count": 51,
   "metadata": {},
   "outputs": [
    {
     "name": "stdout",
     "output_type": "stream",
     "text": [
      "Enter a number: 17\n",
      "0\n",
      "3\n",
      "8\n",
      "14\n",
      "23\n",
      "33\n",
      "45\n",
      "60\n"
     ]
    }
   ],
   "source": [
    "#Question 4\n",
    "n = int(input(\"Enter a number: \"))\n",
    "i = 0\n",
    "sum = 0\n",
    "while i < n + 1:\n",
    "    i += 1\n",
    "    if i % 3 == 0 or i % 5 == 0:\n",
    "        print(sum)\n",
    "        sum += i"
   ]
  },
  {
   "cell_type": "code",
   "execution_count": 43,
   "metadata": {},
   "outputs": [
    {
     "name": "stdout",
     "output_type": "stream",
     "text": [
      "Enter a number: 5\n",
      "What would you like to compute? The sum (1) or the product (2): 1\n",
      "1\n",
      "3\n",
      "6\n",
      "10\n",
      "15\n"
     ]
    }
   ],
   "source": [
    "#Question 5\n",
    "n = int(input(\"Enter a number: \"))\n",
    "choice = input(\"What would you like to compute? The sum (1) or the product (2): \")\n",
    "i = 1\n",
    "count = 1\n",
    "if choice == \"1\":\n",
    "    while i < n + 1:\n",
    "        print(count)\n",
    "        i += 1\n",
    "        count += i\n",
    "if choice == \"2\":\n",
    "    while i < n + 1:\n",
    "        print(count)\n",
    "        count = count * i\n",
    "        i += 1"
   ]
  },
  {
   "cell_type": "code",
   "execution_count": 37,
   "metadata": {},
   "outputs": [
    {
     "data": {
      "text/plain": [
       "233168"
      ]
     },
     "execution_count": 37,
     "metadata": {},
     "output_type": "execute_result"
    }
   ],
   "source": [
    "#Question 6\n",
    "sum([i for i in range(1000) if i % 3 == 0 or i % 5 == 0])"
   ]
  },
  {
   "cell_type": "code",
   "execution_count": 27,
   "metadata": {},
   "outputs": [
    {
     "name": "stdout",
     "output_type": "stream",
     "text": [
      "2002 ,2009 ,2016 ,2023 ,2037 ,2044 ,2051 ,2058 ,2072 ,2079 ,2086 ,2093 ,2107 ,2114 ,2121 ,2128 ,2142 ,2149 ,2156 ,2163 ,2177 ,2184 ,2191 ,2198 ,2212 ,2219 ,2226 ,2233 ,2247 ,2254 ,2261 ,2268 ,2282 ,2289 ,2296 ,2303 ,2317 ,2324 ,2331 ,2338 ,2352 ,2359 ,2366 ,2373 ,2387 ,2394 ,2401 ,2408 ,2422 ,2429 ,2436 ,2443 ,2457 ,2464 ,2471 ,2478 ,2492 ,2499 ,2506 ,2513 ,2527 ,2534 ,2541 ,2548 ,2562 ,2569 ,2576 ,2583 ,2597 ,2604 ,2611 ,2618 ,2632 ,2639 ,2646 ,2653 ,2667 ,2674 ,2681 ,2688 ,2702 ,2709 ,2716 ,2723 ,2737 ,2744 ,2751 ,2758 ,2772 ,2779 ,2786 ,2793 ,2807 ,2814 ,2821 ,2828 ,2842 ,2849 ,2856 ,2863 ,2877 ,2884 ,2891 ,2898 ,2912 ,2919 ,2926 ,2933 ,2947 ,2954 ,2961 ,2968 ,2982 ,2989 ,2996 ,3003 ,3017 ,3024 ,3031 ,3038 ,3052 ,3059 ,3066 ,3073 ,3087 ,3094 ,3101 ,3108 ,3122 ,3129 ,3136 ,3143 ,3157 ,3164 ,3171 ,3178 ,3192 ,3199 ,"
     ]
    }
   ],
   "source": [
    "#Question 7\n",
    "for i in range(2000,3201):\n",
    "    if i %7 == 0 and i %5 != 0:\n",
    "        print(i,\",\",end=\"\")"
   ]
  },
  {
   "cell_type": "code",
   "execution_count": 50,
   "metadata": {},
   "outputs": [
    {
     "name": "stdout",
     "output_type": "stream",
     "text": [
      "25164150.0\n"
     ]
    }
   ],
   "source": [
    "#Question 8\n",
    "def Square_Diff(n):\n",
    "    l = (n * (n + 1) * (2 * n + 1)) / 6\n",
    "    k = (n * (n + 1)) / 2\n",
    "    k = k ** 2\n",
    "    m = abs(l - k)\n",
    "    return m\n",
    "print(Square_Diff(100))"
   ]
  },
  {
   "cell_type": "code",
   "execution_count": 3,
   "metadata": {},
   "outputs": [
    {
     "name": "stdout",
     "output_type": "stream",
     "text": [
      "Factorial of 5 is 120\n"
     ]
    }
   ],
   "source": [
    "#Question 9\n",
    "def factorial(n):\n",
    "    return 1 if (n==1 or n==0)else n * factorial(n - 1);\n",
    "num = 5;\n",
    "print(\"Factorial of\",num,\"is\",factorial(num))"
   ]
  },
  {
   "cell_type": "code",
   "execution_count": 3,
   "metadata": {},
   "outputs": [
    {
     "name": "stdout",
     "output_type": "stream",
     "text": [
      "\n",
      "1 \n",
      "2 2 \n",
      "3 3 3 \n",
      "4 4 4 4 \n",
      "5 5 5 5 5 \n"
     ]
    }
   ],
   "source": [
    "#Question 10\n",
    "#Pattern 1\n",
    "rows = 6\n",
    "for num in range(rows):\n",
    "    for i in range(num):\n",
    "        print(num, end=\" \")\n",
    "    print()"
   ]
  },
  {
   "cell_type": "code",
   "execution_count": 10,
   "metadata": {},
   "outputs": [
    {
     "name": "stdout",
     "output_type": "stream",
     "text": [
      "5 5 5 5 5 \n",
      "5 4 4 4 5 \n",
      "5 4 3 4 5 \n",
      "5 4 4 4 5 \n",
      "5 5 5 5 5 \n"
     ]
    }
   ],
   "source": [
    "#Question 10\n",
    "#Pattern 2\n",
    "n=5\n",
    "for i in range(n):\n",
    "    for j in range(n):\n",
    "        print(max(i+1, j+1, n-i, n-j), end=\" \")\n",
    "    print()"
   ]
  },
  {
   "cell_type": "code",
   "execution_count": 26,
   "metadata": {},
   "outputs": [
    {
     "name": "stdout",
     "output_type": "stream",
     "text": [
      "* \n",
      "* * \n",
      "* * * \n",
      "* * * * \n",
      "* * * * * \n"
     ]
    }
   ],
   "source": [
    "#Question 10\n",
    "#Pattern 3\n",
    "rows = 5\n",
    "for i in range(0, rows):\n",
    "    for j in range(0, i + 1):\n",
    "        print(\"*\", end=\" \")\n",
    "    print()"
   ]
  },
  {
   "cell_type": "code",
   "execution_count": 1,
   "metadata": {},
   "outputs": [
    {
     "name": "stdout",
     "output_type": "stream",
     "text": [
      "* * * * \n",
      "* * * \n",
      "* * \n",
      "* \n"
     ]
    }
   ],
   "source": [
    "#Question 10\n",
    "#Pattern 4\n",
    "rows = 4\n",
    "for i in range(rows, 0, -1):\n",
    "    for j in range(0, i):\n",
    "        print(\"*\", end=\" \")\n",
    "    print()"
   ]
  },
  {
   "cell_type": "code",
   "execution_count": 27,
   "metadata": {},
   "outputs": [
    {
     "name": "stdout",
     "output_type": "stream",
     "text": [
      "# # # # # \n",
      "# # # # # \n",
      "# # # # # \n",
      "# # # # # \n",
      "# # # # # \n"
     ]
    }
   ],
   "source": [
    "#Question 10\n",
    "#Pattern 5\n",
    "rows = 5\n",
    "for i in range(0,rows):\n",
    "    for j in range(0,j+1):\n",
    "        print(\"#\", end=\" \")\n",
    "    print()\n",
    "\n",
    "\n"
   ]
  },
  {
   "cell_type": "code",
   "execution_count": 4,
   "metadata": {},
   "outputs": [
    {
     "name": "stdout",
     "output_type": "stream",
     "text": [
      "Enter a number: 9\n",
      "11106\n"
     ]
    }
   ],
   "source": [
    "#Question 11\n",
    "num = input(\"Enter a number: \")\n",
    "n1 = num * 1\n",
    "n2 = num * 2\n",
    "n3 = num * 3\n",
    "n4 = num * 4\n",
    "total = int(n1) + int(n2) + int(n3) + int(n4)\n",
    "print(total)"
   ]
  },
  {
   "cell_type": "code",
   "execution_count": 8,
   "metadata": {},
   "outputs": [
    {
     "name": "stdout",
     "output_type": "stream",
     "text": [
      "7\n"
     ]
    }
   ],
   "source": [
    "#Question 12\n",
    "def len(string):\n",
    "    counter = 0    \n",
    "    for i in string:\n",
    "        counter += 1\n",
    "    return counter\n",
    "string = \"welcome\"\n",
    "print(len(string))"
   ]
  },
  {
   "cell_type": "code",
   "execution_count": 9,
   "metadata": {},
   "outputs": [
    {
     "name": "stdout",
     "output_type": "stream",
     "text": [
      "Enter a string: this is a test sentence number 389\n",
      "Letters: 25\n",
      "Digits: 3\n"
     ]
    }
   ],
   "source": [
    "#Question 13\n",
    "str = input(\"Enter a string: \")\n",
    "d=l=0\n",
    "for c in str:\n",
    "    if c.isdigit():\n",
    "        d=d+1\n",
    "    elif c.isalpha():\n",
    "        l=l+1\n",
    "    else:\n",
    "        pass\n",
    "print(\"Letters:\", l)\n",
    "print(\"Digits:\", d)"
   ]
  },
  {
   "cell_type": "code",
   "execution_count": 17,
   "metadata": {},
   "outputs": [
    {
     "name": "stdout",
     "output_type": "stream",
     "text": [
      "Enter a String: hello\n",
      "Original String in Lowercase =  hello\n",
      "The Given String in Uppercase =  HELLO\n"
     ]
    }
   ],
   "source": [
    "#Question 14\n",
    "string = input(\"Enter a String: \")\n",
    "string1 = ''\n",
    "\n",
    "for i in range(len(string)):\n",
    "    if(string[i] >= 'a' and string[i] <= 'z'):\n",
    "        string1 = string1 + chr((ord(string[i]) - 32))\n",
    "    else:\n",
    "        string1 = string1 + string[i]\n",
    "print(\"Original String in Lowercase = \",string)\n",
    "print(\"The Given String in Uppercase = \",string1)"
   ]
  },
  {
   "cell_type": "code",
   "execution_count": 25,
   "metadata": {},
   "outputs": [
    {
     "name": "stdout",
     "output_type": "stream",
     "text": [
      "Lower case characters:  17\n",
      "Upper case characters:  3\n"
     ]
    }
   ],
   "source": [
    "#Question 15\n",
    "s = \"Introduction To Python\"\n",
    "l,u = 0,0\n",
    "for i in s:\n",
    "    if (i>='a'and i<='z'):\n",
    "          l=l+1                 \n",
    "    if (i>='A'and i<='Z'):\n",
    "           u=u+1\n",
    "print('Lower case characters: ',l)\n",
    "print('Upper case characters: ',u)"
   ]
  },
  {
   "cell_type": "code",
   "execution_count": 10,
   "metadata": {},
   "outputs": [
    {
     "name": "stdout",
     "output_type": "stream",
     "text": [
      "Enter a string: This is a test string\n",
      "Enter a character from string: i\n",
      "The total number of times i has occurred = 3\n"
     ]
    }
   ],
   "source": [
    "#Question 16\n",
    "string = input(\"Enter a string: \")\n",
    "char = input(\"Enter a character from string: \")\n",
    "count = 0\n",
    "for i in range(len(string)):\n",
    "    if(string[i] == char):\n",
    "        count = count + 1\n",
    "print(\"The total number of times\",char, \"has occurred =\" ,count)"
   ]
  },
  {
   "cell_type": "code",
   "execution_count": 11,
   "metadata": {},
   "outputs": [
    {
     "name": "stdout",
     "output_type": "stream",
     "text": [
      "Enter a string: madam\n",
      "The string is a palindrome\n"
     ]
    }
   ],
   "source": [
    "#Question 17\n",
    "string = input(\"Enter a string: \")\n",
    "if(string==string[::-1]):\n",
    "    print(\"The string is a palindrome\")\n",
    "else:\n",
    "    print(\"Not a palindrome\")"
   ]
  },
  {
   "cell_type": "code",
   "execution_count": 2,
   "metadata": {},
   "outputs": [
    {
     "name": "stdout",
     "output_type": "stream",
     "text": [
      "Enter first string: Hello world\n",
      "Enter second string: world\n",
      "s2 is substring of s1\n"
     ]
    }
   ],
   "source": [
    "#Question 18\n",
    "s1 = input(\"Enter first string: \")\n",
    "s2 = input(\"Enter second string: \")\n",
    "if(s1.find(s2)==-1):\n",
    "      print(\"s2 is not substring of s1\")\n",
    "else:\n",
    "      print(\"s2 is substring of s1\")"
   ]
  },
  {
   "cell_type": "code",
   "execution_count": 1,
   "metadata": {},
   "outputs": [
    {
     "name": "stdout",
     "output_type": "stream",
     "text": [
      "Input your password: 4rX@09\n",
      "Valid Password\n"
     ]
    }
   ],
   "source": [
    "#Question 19\n",
    "import re\n",
    "p= input(\"Input your password: \")\n",
    "x = True\n",
    "while x:  \n",
    "    if (len(p)<6 or len(p)>12):\n",
    "        break\n",
    "    elif not re.search(\"[a-z]\",p):\n",
    "        break\n",
    "    elif not re.search(\"[0-9]\",p):\n",
    "        break\n",
    "    elif not re.search(\"[@$#%&]\",p):\n",
    "        break\n",
    "    elif re.search(\"\\s\",p):\n",
    "        break\n",
    "    else:\n",
    "        print(\"Valid Password\")\n",
    "        x=False\n",
    "        break\n",
    "if x:\n",
    "    print(\"Not a Valid Password\")"
   ]
  },
  {
   "cell_type": "code",
   "execution_count": 10,
   "metadata": {},
   "outputs": [
    {
     "name": "stdout",
     "output_type": "stream",
     "text": [
      "['e', 'o', 'o', 'a', 'e', 'o', 'u', 'a']\n"
     ]
    }
   ],
   "source": [
    "#Question 20\n",
    "def vowel(string):\n",
    "    vowels = \"aeiouAEIOU\"\n",
    "    print([letter for letter in string if letter in vowels])\n",
    "vowel('Hello how are you all')"
   ]
  },
  {
   "cell_type": "code",
   "execution_count": null,
   "metadata": {},
   "outputs": [],
   "source": []
  }
 ],
 "metadata": {
  "kernelspec": {
   "display_name": "Python 3",
   "language": "python",
   "name": "python3"
  },
  "language_info": {
   "codemirror_mode": {
    "name": "ipython",
    "version": 3
   },
   "file_extension": ".py",
   "mimetype": "text/x-python",
   "name": "python",
   "nbconvert_exporter": "python",
   "pygments_lexer": "ipython3",
   "version": "3.8.3"
  }
 },
 "nbformat": 4,
 "nbformat_minor": 4
}
